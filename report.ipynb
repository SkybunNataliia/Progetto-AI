{
 "cells": [
  {
   "cell_type": "markdown",
   "id": "6da8beb7",
   "metadata": {},
   "source": [
    "## Time Series Forecasting Multivariato con Bike Sharing Demand\n",
    "\n",
    "**_Scopo dell’analisi:_**  \n",
    "Predire la domanda futura di biciclette (prossima ora), usando una finestra temporale passata (ultime 24 ore) e le caratteristiche meteo e temporali.  \n",
    "\n",
    "**_Modelli utilizzati:_**  \n",
    "CNN 1D, LSTM, GRU.  \n",
    "\n",
    "**_Obiettivi finali:_**  \n",
    "Confronto tra modelli e scelta del migliore.  \n",
    "\n",
    "Fonte: [kaggle.com](https://www.kaggle.com/competitions/bike-sharing-demand/data)"
   ]
  },
  {
   "cell_type": "code",
   "execution_count": 2,
   "id": "cf79a6a7",
   "metadata": {},
   "outputs": [],
   "source": [
    "import os\n",
    "os.environ[\"KMP_DUPLICATE_LIB_OK\"] = \"TRUE\""
   ]
  },
  {
   "cell_type": "markdown",
   "id": "26e5921a",
   "metadata": {},
   "source": [
    "## Import delle librerie necessarie"
   ]
  },
  {
   "cell_type": "code",
   "execution_count": 3,
   "id": "96595e97",
   "metadata": {},
   "outputs": [],
   "source": [
    "import pandas as pd\n",
    "import seaborn as sns\n",
    "import numpy as np\n",
    "import matplotlib.pyplot as plt"
   ]
  },
  {
   "cell_type": "code",
   "execution_count": 4,
   "id": "8e87687f",
   "metadata": {},
   "outputs": [],
   "source": [
    "from utils.seed_utils import set_seed\n",
    "set_seed(42)"
   ]
  },
  {
   "cell_type": "markdown",
   "id": "a294b546",
   "metadata": {},
   "source": [
    "## Import dataset"
   ]
  },
  {
   "cell_type": "markdown",
   "id": "a9ef742d",
   "metadata": {},
   "source": [
    "**Datetime** - hourly date + timestamp   \n",
    "**Season** -  1 = spring, 2 = summer, 3 = fall, 4 = winter  \n",
    "**Holiday** - whether the day is considered a holiday  \n",
    "**Workingday** - whether the day is neither a weekend nor holiday   \n",
    "**Weather** - 1: Clear, Few clouds, Partly cloudy, Partly cloudy;\n",
    "2: Mist + Cloudy, Mist + Broken clouds, Mist + Few clouds, Mist;\n",
    "3: Light Snow, Light Rain + Thunderstorm + Scattered clouds, Light Rain + Scattered clouds;\n",
    "4: Heavy Rain + Ice Pallets + Thunderstorm + Mist, Snow + Fog   \n",
    "**Temp** - temperature in Celsius   \n",
    "**Atemp** - \"feels like\" temperature in Celsius   \n",
    "**Humidity** - relative humidity   \n",
    "**Windspeed** - wind speed   \n",
    "**Casual** - number of non-registered user rentals initiated   \n",
    "**Registered** - number of registered user rentals initiated   \n",
    "**Count** - number of total rentals   "
   ]
  },
  {
   "cell_type": "code",
   "execution_count": 5,
   "id": "8c47fd2b",
   "metadata": {},
   "outputs": [],
   "source": [
    "df = pd.read_csv(\"./data/raw/data.csv\")"
   ]
  },
  {
   "cell_type": "markdown",
   "id": "aad12b92",
   "metadata": {},
   "source": [
    "## Analisi dataset"
   ]
  },
  {
   "cell_type": "code",
   "execution_count": 6,
   "id": "5a2a3593",
   "metadata": {},
   "outputs": [
    {
     "data": {
      "text/html": [
       "<div>\n",
       "<style scoped>\n",
       "    .dataframe tbody tr th:only-of-type {\n",
       "        vertical-align: middle;\n",
       "    }\n",
       "\n",
       "    .dataframe tbody tr th {\n",
       "        vertical-align: top;\n",
       "    }\n",
       "\n",
       "    .dataframe thead th {\n",
       "        text-align: right;\n",
       "    }\n",
       "</style>\n",
       "<table border=\"1\" class=\"dataframe\">\n",
       "  <thead>\n",
       "    <tr style=\"text-align: right;\">\n",
       "      <th></th>\n",
       "      <th>datetime</th>\n",
       "      <th>season</th>\n",
       "      <th>holiday</th>\n",
       "      <th>workingday</th>\n",
       "      <th>weather</th>\n",
       "      <th>temp</th>\n",
       "      <th>atemp</th>\n",
       "      <th>humidity</th>\n",
       "      <th>windspeed</th>\n",
       "      <th>casual</th>\n",
       "      <th>registered</th>\n",
       "      <th>count</th>\n",
       "    </tr>\n",
       "  </thead>\n",
       "  <tbody>\n",
       "    <tr>\n",
       "      <th>0</th>\n",
       "      <td>2011-01-01 00:00:00</td>\n",
       "      <td>1</td>\n",
       "      <td>0</td>\n",
       "      <td>0</td>\n",
       "      <td>1</td>\n",
       "      <td>9.84</td>\n",
       "      <td>14.395</td>\n",
       "      <td>81</td>\n",
       "      <td>0.0</td>\n",
       "      <td>3</td>\n",
       "      <td>13</td>\n",
       "      <td>16</td>\n",
       "    </tr>\n",
       "    <tr>\n",
       "      <th>1</th>\n",
       "      <td>2011-01-01 01:00:00</td>\n",
       "      <td>1</td>\n",
       "      <td>0</td>\n",
       "      <td>0</td>\n",
       "      <td>1</td>\n",
       "      <td>9.02</td>\n",
       "      <td>13.635</td>\n",
       "      <td>80</td>\n",
       "      <td>0.0</td>\n",
       "      <td>8</td>\n",
       "      <td>32</td>\n",
       "      <td>40</td>\n",
       "    </tr>\n",
       "    <tr>\n",
       "      <th>2</th>\n",
       "      <td>2011-01-01 02:00:00</td>\n",
       "      <td>1</td>\n",
       "      <td>0</td>\n",
       "      <td>0</td>\n",
       "      <td>1</td>\n",
       "      <td>9.02</td>\n",
       "      <td>13.635</td>\n",
       "      <td>80</td>\n",
       "      <td>0.0</td>\n",
       "      <td>5</td>\n",
       "      <td>27</td>\n",
       "      <td>32</td>\n",
       "    </tr>\n",
       "    <tr>\n",
       "      <th>3</th>\n",
       "      <td>2011-01-01 03:00:00</td>\n",
       "      <td>1</td>\n",
       "      <td>0</td>\n",
       "      <td>0</td>\n",
       "      <td>1</td>\n",
       "      <td>9.84</td>\n",
       "      <td>14.395</td>\n",
       "      <td>75</td>\n",
       "      <td>0.0</td>\n",
       "      <td>3</td>\n",
       "      <td>10</td>\n",
       "      <td>13</td>\n",
       "    </tr>\n",
       "    <tr>\n",
       "      <th>4</th>\n",
       "      <td>2011-01-01 04:00:00</td>\n",
       "      <td>1</td>\n",
       "      <td>0</td>\n",
       "      <td>0</td>\n",
       "      <td>1</td>\n",
       "      <td>9.84</td>\n",
       "      <td>14.395</td>\n",
       "      <td>75</td>\n",
       "      <td>0.0</td>\n",
       "      <td>0</td>\n",
       "      <td>1</td>\n",
       "      <td>1</td>\n",
       "    </tr>\n",
       "  </tbody>\n",
       "</table>\n",
       "</div>"
      ],
      "text/plain": [
       "              datetime  season  holiday  workingday  weather  temp   atemp  \\\n",
       "0  2011-01-01 00:00:00       1        0           0        1  9.84  14.395   \n",
       "1  2011-01-01 01:00:00       1        0           0        1  9.02  13.635   \n",
       "2  2011-01-01 02:00:00       1        0           0        1  9.02  13.635   \n",
       "3  2011-01-01 03:00:00       1        0           0        1  9.84  14.395   \n",
       "4  2011-01-01 04:00:00       1        0           0        1  9.84  14.395   \n",
       "\n",
       "   humidity  windspeed  casual  registered  count  \n",
       "0        81        0.0       3          13     16  \n",
       "1        80        0.0       8          32     40  \n",
       "2        80        0.0       5          27     32  \n",
       "3        75        0.0       3          10     13  \n",
       "4        75        0.0       0           1      1  "
      ]
     },
     "execution_count": 6,
     "metadata": {},
     "output_type": "execute_result"
    }
   ],
   "source": [
    "df.head()"
   ]
  },
  {
   "cell_type": "code",
   "execution_count": 7,
   "id": "1cf7ed9c",
   "metadata": {},
   "outputs": [
    {
     "name": "stdout",
     "output_type": "stream",
     "text": [
      "<class 'pandas.core.frame.DataFrame'>\n",
      "RangeIndex: 10886 entries, 0 to 10885\n",
      "Data columns (total 12 columns):\n",
      " #   Column      Non-Null Count  Dtype  \n",
      "---  ------      --------------  -----  \n",
      " 0   datetime    10886 non-null  object \n",
      " 1   season      10886 non-null  int64  \n",
      " 2   holiday     10886 non-null  int64  \n",
      " 3   workingday  10886 non-null  int64  \n",
      " 4   weather     10886 non-null  int64  \n",
      " 5   temp        10886 non-null  float64\n",
      " 6   atemp       10886 non-null  float64\n",
      " 7   humidity    10886 non-null  int64  \n",
      " 8   windspeed   10886 non-null  float64\n",
      " 9   casual      10886 non-null  int64  \n",
      " 10  registered  10886 non-null  int64  \n",
      " 11  count       10886 non-null  int64  \n",
      "dtypes: float64(3), int64(8), object(1)\n",
      "memory usage: 1020.7+ KB\n"
     ]
    }
   ],
   "source": [
    "df.info()"
   ]
  },
  {
   "cell_type": "code",
   "execution_count": 8,
   "id": "6665796a",
   "metadata": {},
   "outputs": [
    {
     "data": {
      "text/plain": [
       "datetime      0\n",
       "season        0\n",
       "holiday       0\n",
       "workingday    0\n",
       "weather       0\n",
       "temp          0\n",
       "atemp         0\n",
       "humidity      0\n",
       "windspeed     0\n",
       "casual        0\n",
       "registered    0\n",
       "count         0\n",
       "dtype: int64"
      ]
     },
     "execution_count": 8,
     "metadata": {},
     "output_type": "execute_result"
    }
   ],
   "source": [
    "df.isnull().sum()"
   ]
  },
  {
   "cell_type": "code",
   "execution_count": 9,
   "id": "84ca0a54",
   "metadata": {},
   "outputs": [
    {
     "data": {
      "text/html": [
       "<div>\n",
       "<style scoped>\n",
       "    .dataframe tbody tr th:only-of-type {\n",
       "        vertical-align: middle;\n",
       "    }\n",
       "\n",
       "    .dataframe tbody tr th {\n",
       "        vertical-align: top;\n",
       "    }\n",
       "\n",
       "    .dataframe thead th {\n",
       "        text-align: right;\n",
       "    }\n",
       "</style>\n",
       "<table border=\"1\" class=\"dataframe\">\n",
       "  <thead>\n",
       "    <tr style=\"text-align: right;\">\n",
       "      <th></th>\n",
       "      <th>season</th>\n",
       "      <th>holiday</th>\n",
       "      <th>workingday</th>\n",
       "      <th>weather</th>\n",
       "      <th>temp</th>\n",
       "      <th>atemp</th>\n",
       "      <th>humidity</th>\n",
       "      <th>windspeed</th>\n",
       "      <th>casual</th>\n",
       "      <th>registered</th>\n",
       "      <th>count</th>\n",
       "    </tr>\n",
       "  </thead>\n",
       "  <tbody>\n",
       "    <tr>\n",
       "      <th>count</th>\n",
       "      <td>10886.000000</td>\n",
       "      <td>10886.000000</td>\n",
       "      <td>10886.000000</td>\n",
       "      <td>10886.000000</td>\n",
       "      <td>10886.00000</td>\n",
       "      <td>10886.000000</td>\n",
       "      <td>10886.000000</td>\n",
       "      <td>10886.000000</td>\n",
       "      <td>10886.000000</td>\n",
       "      <td>10886.000000</td>\n",
       "      <td>10886.000000</td>\n",
       "    </tr>\n",
       "    <tr>\n",
       "      <th>mean</th>\n",
       "      <td>2.506614</td>\n",
       "      <td>0.028569</td>\n",
       "      <td>0.680875</td>\n",
       "      <td>1.418427</td>\n",
       "      <td>20.23086</td>\n",
       "      <td>23.655084</td>\n",
       "      <td>61.886460</td>\n",
       "      <td>12.799395</td>\n",
       "      <td>36.021955</td>\n",
       "      <td>155.552177</td>\n",
       "      <td>191.574132</td>\n",
       "    </tr>\n",
       "    <tr>\n",
       "      <th>std</th>\n",
       "      <td>1.116174</td>\n",
       "      <td>0.166599</td>\n",
       "      <td>0.466159</td>\n",
       "      <td>0.633839</td>\n",
       "      <td>7.79159</td>\n",
       "      <td>8.474601</td>\n",
       "      <td>19.245033</td>\n",
       "      <td>8.164537</td>\n",
       "      <td>49.960477</td>\n",
       "      <td>151.039033</td>\n",
       "      <td>181.144454</td>\n",
       "    </tr>\n",
       "    <tr>\n",
       "      <th>min</th>\n",
       "      <td>1.000000</td>\n",
       "      <td>0.000000</td>\n",
       "      <td>0.000000</td>\n",
       "      <td>1.000000</td>\n",
       "      <td>0.82000</td>\n",
       "      <td>0.760000</td>\n",
       "      <td>0.000000</td>\n",
       "      <td>0.000000</td>\n",
       "      <td>0.000000</td>\n",
       "      <td>0.000000</td>\n",
       "      <td>1.000000</td>\n",
       "    </tr>\n",
       "    <tr>\n",
       "      <th>25%</th>\n",
       "      <td>2.000000</td>\n",
       "      <td>0.000000</td>\n",
       "      <td>0.000000</td>\n",
       "      <td>1.000000</td>\n",
       "      <td>13.94000</td>\n",
       "      <td>16.665000</td>\n",
       "      <td>47.000000</td>\n",
       "      <td>7.001500</td>\n",
       "      <td>4.000000</td>\n",
       "      <td>36.000000</td>\n",
       "      <td>42.000000</td>\n",
       "    </tr>\n",
       "    <tr>\n",
       "      <th>50%</th>\n",
       "      <td>3.000000</td>\n",
       "      <td>0.000000</td>\n",
       "      <td>1.000000</td>\n",
       "      <td>1.000000</td>\n",
       "      <td>20.50000</td>\n",
       "      <td>24.240000</td>\n",
       "      <td>62.000000</td>\n",
       "      <td>12.998000</td>\n",
       "      <td>17.000000</td>\n",
       "      <td>118.000000</td>\n",
       "      <td>145.000000</td>\n",
       "    </tr>\n",
       "    <tr>\n",
       "      <th>75%</th>\n",
       "      <td>4.000000</td>\n",
       "      <td>0.000000</td>\n",
       "      <td>1.000000</td>\n",
       "      <td>2.000000</td>\n",
       "      <td>26.24000</td>\n",
       "      <td>31.060000</td>\n",
       "      <td>77.000000</td>\n",
       "      <td>16.997900</td>\n",
       "      <td>49.000000</td>\n",
       "      <td>222.000000</td>\n",
       "      <td>284.000000</td>\n",
       "    </tr>\n",
       "    <tr>\n",
       "      <th>max</th>\n",
       "      <td>4.000000</td>\n",
       "      <td>1.000000</td>\n",
       "      <td>1.000000</td>\n",
       "      <td>4.000000</td>\n",
       "      <td>41.00000</td>\n",
       "      <td>45.455000</td>\n",
       "      <td>100.000000</td>\n",
       "      <td>56.996900</td>\n",
       "      <td>367.000000</td>\n",
       "      <td>886.000000</td>\n",
       "      <td>977.000000</td>\n",
       "    </tr>\n",
       "  </tbody>\n",
       "</table>\n",
       "</div>"
      ],
      "text/plain": [
       "             season       holiday    workingday       weather         temp  \\\n",
       "count  10886.000000  10886.000000  10886.000000  10886.000000  10886.00000   \n",
       "mean       2.506614      0.028569      0.680875      1.418427     20.23086   \n",
       "std        1.116174      0.166599      0.466159      0.633839      7.79159   \n",
       "min        1.000000      0.000000      0.000000      1.000000      0.82000   \n",
       "25%        2.000000      0.000000      0.000000      1.000000     13.94000   \n",
       "50%        3.000000      0.000000      1.000000      1.000000     20.50000   \n",
       "75%        4.000000      0.000000      1.000000      2.000000     26.24000   \n",
       "max        4.000000      1.000000      1.000000      4.000000     41.00000   \n",
       "\n",
       "              atemp      humidity     windspeed        casual    registered  \\\n",
       "count  10886.000000  10886.000000  10886.000000  10886.000000  10886.000000   \n",
       "mean      23.655084     61.886460     12.799395     36.021955    155.552177   \n",
       "std        8.474601     19.245033      8.164537     49.960477    151.039033   \n",
       "min        0.760000      0.000000      0.000000      0.000000      0.000000   \n",
       "25%       16.665000     47.000000      7.001500      4.000000     36.000000   \n",
       "50%       24.240000     62.000000     12.998000     17.000000    118.000000   \n",
       "75%       31.060000     77.000000     16.997900     49.000000    222.000000   \n",
       "max       45.455000    100.000000     56.996900    367.000000    886.000000   \n",
       "\n",
       "              count  \n",
       "count  10886.000000  \n",
       "mean     191.574132  \n",
       "std      181.144454  \n",
       "min        1.000000  \n",
       "25%       42.000000  \n",
       "50%      145.000000  \n",
       "75%      284.000000  \n",
       "max      977.000000  "
      ]
     },
     "execution_count": 9,
     "metadata": {},
     "output_type": "execute_result"
    }
   ],
   "source": [
    "df.describe()"
   ]
  },
  {
   "cell_type": "code",
   "execution_count": 10,
   "id": "6e48b01f",
   "metadata": {},
   "outputs": [
    {
     "data": {
      "image/png": "[encoded data removed]",
      "text/plain": [
       "<Figure size 640x480 with 1 Axes>"
      ]
     },
     "metadata": {},
     "output_type": "display_data"
    }
   ],
   "source": [
    "sns.histplot(data=df, x='count', kde=True, bins=20, color=\"green\")\n",
    "plt.title(\"Distribuzione della variabile target 'count'\")\n",
    "plt.xlabel(\"Count\")\n",
    "plt.ylabel(\"Frequenza\")\n",
    "plt.show()"
   ]
  },
  {
   "cell_type": "code",
   "execution_count": 11,
   "id": "45abe765",
   "metadata": {},
   "outputs": [
    {
     "data": {
      "image/png": "[encoded data removed]",
      "text/plain": [
       "<Figure size 640x480 with 1 Axes>"
      ]
     },
     "metadata": {},
     "output_type": "display_data"
    }
   ],
   "source": [
    "sns.boxplot(data=df, x='count', color='green')\n",
    "plt.show()"
   ]
  },
  {
   "cell_type": "markdown",
   "id": "92b92925",
   "metadata": {},
   "source": [
    "## Preprocessing"
   ]
  },
  {
   "cell_type": "code",
   "execution_count": 12,
   "id": "19aa34d2",
   "metadata": {},
   "outputs": [],
   "source": [
    "# parsing datetime\n",
    "df[\"datetime\"] = pd.to_datetime(df[\"datetime\"])\n",
    "df[\"hour\"] = df[\"datetime\"].dt.hour\n",
    "df[\"dayofweek\"] = df[\"datetime\"].dt.dayofweek\n",
    "df[\"month\"] = df[\"datetime\"].dt.month\n",
    "df[\"year\"] = df[\"datetime\"].dt.year\n",
    "df = df.drop(columns=[\"datetime\"])"
   ]
  },
  {
   "cell_type": "code",
   "execution_count": 13,
   "id": "12fbb93e",
   "metadata": {},
   "outputs": [
    {
     "data": {
      "image/png": "[encoded data removed]",
      "text/plain": [
       "<Figure size 640x480 with 1 Axes>"
      ]
     },
     "metadata": {},
     "output_type": "display_data"
    }
   ],
   "source": [
    "df.groupby(\"hour\")[\"count\"].mean().plot(kind='bar', color='green')\n",
    "plt.title(\"Media dei noleggi per ora del giorno\")\n",
    "plt.xlabel(\"Ora\")\n",
    "plt.ylabel(\"Media count\")\n",
    "plt.show()"
   ]
  },
  {
   "cell_type": "code",
   "execution_count": 14,
   "id": "d7f9c918",
   "metadata": {},
   "outputs": [],
   "source": [
    "# rimozione colonne ridondanti\n",
    "df = df.drop(columns=[\"casual\", \"registered\"])"
   ]
  },
  {
   "cell_type": "code",
   "execution_count": 15,
   "id": "b84d841d",
   "metadata": {},
   "outputs": [
    {
     "data": {
      "image/png": "[encoded data removed]",
      "text/plain": [
       "<Figure size 640x480 with 2 Axes>"
      ]
     },
     "metadata": {},
     "output_type": "display_data"
    }
   ],
   "source": [
    "sns.heatmap(df.corr(), cmap='PiYG')\n",
    "plt.title(\"Matrice di correlazione tra variabili\")\n",
    "plt.show()"
   ]
  },
  {
   "cell_type": "code",
   "execution_count": 16,
   "id": "b2623b8f",
   "metadata": {},
   "outputs": [],
   "source": [
    "# suddivisione temporale train/val/test (70% - 15% - 15%)\n",
    "n = len(df)\n",
    "train_end = int(n * 0.7)\n",
    "val_end = int(n * 0.85)\n",
    "\n",
    "train_df = df.iloc[:train_end].copy()\n",
    "val_df = df.iloc[train_end:val_end].copy()\n",
    "test_df = df.iloc[val_end:].copy()"
   ]
  },
  {
   "cell_type": "code",
   "execution_count": 17,
   "id": "2d856130",
   "metadata": {},
   "outputs": [],
   "source": [
    "# normalizzazione\n",
    "from sklearn.preprocessing import StandardScaler\n",
    "\n",
    "# Feature\n",
    "features = [\"temp\", \"atemp\", \"humidity\", \"windspeed\"]\n",
    "scaler_features = StandardScaler()\n",
    "scaler_features.fit(train_df[features])\n",
    "\n",
    "train_df[features] = scaler_features.transform(train_df[features])\n",
    "val_df[features] = scaler_features.transform(val_df[features])\n",
    "test_df[features] = scaler_features.transform(test_df[features])\n",
    "\n",
    "# Target\n",
    "scaler_target = StandardScaler()\n",
    "scaler_target.fit(train_df[['count']])\n",
    "\n",
    "train_df['count'] = scaler_target.transform(train_df[['count']])\n",
    "val_df['count'] = scaler_target.transform(val_df[['count']])\n",
    "test_df['count'] = scaler_target.transform(test_df[['count']])\n",
    "\n",
    "# Salvo su disco\n",
    "import joblib\n",
    "joblib.dump(scaler_target, \"scaler_target.pkl\");"
   ]
  },
  {
   "cell_type": "code",
   "execution_count": 18,
   "id": "20833eec",
   "metadata": {},
   "outputs": [],
   "source": [
    "# salvataggio dataset processati\n",
    "train_df.to_csv(\"data/processed/train.csv\", index=False)\n",
    "test_df.to_csv(\"data/processed/test.csv\", index=False)\n",
    "val_df.to_csv(\"data/processed/val.csv\", index=False)"
   ]
  },
  {
   "cell_type": "markdown",
   "id": "7b1378f4",
   "metadata": {},
   "source": [
    "## Modellazione"
   ]
  },
  {
   "cell_type": "markdown",
   "id": "d123557e",
   "metadata": {},
   "source": [
    "### Scelta dei Modelli\n",
    "Per affrontare il problema sono stati implementati e confrontati 3 modelli di rete neurale:\n",
    "\n",
    "_CNN1D:_ adatta a catturare pattern locali nei dati temporali.\n",
    "\n",
    "_LSTM:_ efficace per sequenze con dipendenze a lungo termine.\n",
    "\n",
    "_GRU:_ variante semplificata delle LSTM, con prestazioni comparabili ma maggiore efficienza.\n",
    "\n",
    "Queste reti sono implementate come moduli PyTorch nei file: models/cnn1d_model.py, models/lstm_model.py, models/gru_model.py.\n",
    "\n",
    "La scelta è ricaduta su questi modelli per la loro efficacia nel modellare dati sequenziali e per permettere un confronto tra architetture convoluzionali e ricorrenti."
   ]
  },
  {
   "cell_type": "markdown",
   "id": "bc0c550a",
   "metadata": {},
   "source": [
    "### Configurazione dell’Addestramento\n",
    "L’addestramento dei modelli è gestito da una classe `Trainer`, contenuta nel file _trainer.py_. I parametri di configurazione sono caricati dinamicamente da un file Json (_config.json_), che permette di cambiare facilmente rete e iperparametri senza modificare il codice sorgente.\n",
    "\n",
    "I principali iperparametri utilizzati sono:\n",
    "\n",
    "- batch_size = 32\n",
    "- window_size = 24\n",
    "- learning_rate = 0.001\n",
    "- momentum\t= 0.9\n",
    "- epochs = 100\n",
    "- loss_target = 0.01\n",
    "- optimizer\t= SGD\n",
    "- loss_function\t= MSELoss\n",
    "- early_stop_patience = 10"
   ]
  },
  {
   "cell_type": "markdown",
   "id": "0e0a5c9e",
   "metadata": {},
   "source": [
    "### Strategia di Addestramento\n",
    "L'addestramento segue questi passaggi:\n",
    "\n",
    "1. **Costruzione del modello** secondo il tipo specificato.\n",
    "\n",
    "2. **Inizializzazione** di ottimizzatore e funzione di loss.\n",
    "\n",
    "3. **Addestramento su epoche multiple** con monitoraggio della loss sul set di validazione.\n",
    "\n",
    "4. **Early stopping** se la validation loss non migliora oltre un certo margine per un numero di epoche consecutive, l’addestramento viene interrotto.\n",
    "\n",
    "5. **Salvataggio dei modelli:**\n",
    "\n",
    "    - best_model.pth: il migliore raggiunto in validazione.\n",
    "\n",
    "    - last_model.pth: quello dell’ultima epoca completata.\n",
    "\n",
    "\n",
    "Durante il training, è possibile **caricare l’ultimo modello** salvato (_reload_last_model: True_) per riprendere da dove si era interrotto."
   ]
  },
  {
   "cell_type": "markdown",
   "id": "fec39c24",
   "metadata": {},
   "source": [
    "## Addestramento e Valutazione"
   ]
  },
  {
   "cell_type": "markdown",
   "id": "6d37ab8e",
   "metadata": {},
   "source": [
    "## Conclusioni"
   ]
  }
 ],
 "metadata": {
  "kernelspec": {
   "display_name": "progetto",
   "language": "python",
   "name": "python3"
  },
  "language_info": {
   "codemirror_mode": {
    "name": "ipython",
    "version": 3
   },
   "file_extension": ".py",
   "mimetype": "text/x-python",
   "name": "python",
   "nbconvert_exporter": "python",
   "pygments_lexer": "ipython3",
   "version": "3.11.11"
  }
 },
 "nbformat": 4,
 "nbformat_minor": 5
}
